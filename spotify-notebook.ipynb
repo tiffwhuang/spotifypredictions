{
 "cells": [
  {
   "cell_type": "code",
   "execution_count": 1,
   "metadata": {
    "_cell_guid": "b1076dfc-b9ad-4769-8c92-a6c4dae69d19",
    "_uuid": "8f2839f25d086af736a60e9eeb907d3b93b6e0e5",
    "execution": {
     "iopub.execute_input": "2021-02-03T04:27:57.330118Z",
     "iopub.status.busy": "2021-02-03T04:27:57.329367Z",
     "iopub.status.idle": "2021-02-03T04:28:00.585288Z",
     "shell.execute_reply": "2021-02-03T04:28:00.584573Z"
    },
    "papermill": {
     "duration": 3.280193,
     "end_time": "2021-02-03T04:28:00.585409",
     "exception": false,
     "start_time": "2021-02-03T04:27:57.305216",
     "status": "completed"
    },
    "tags": []
   },
   "outputs": [
    {
     "data": {
      "text/html": [
       "<div>\n",
       "<style scoped>\n",
       "    .dataframe tbody tr th:only-of-type {\n",
       "        vertical-align: middle;\n",
       "    }\n",
       "\n",
       "    .dataframe tbody tr th {\n",
       "        vertical-align: top;\n",
       "    }\n",
       "\n",
       "    .dataframe thead th {\n",
       "        text-align: right;\n",
       "    }\n",
       "</style>\n",
       "<table border=\"1\" class=\"dataframe\">\n",
       "  <thead>\n",
       "    <tr style=\"text-align: right;\">\n",
       "      <th></th>\n",
       "      <th>acousticness</th>\n",
       "      <th>artists</th>\n",
       "      <th>danceability</th>\n",
       "      <th>duration_ms</th>\n",
       "      <th>energy</th>\n",
       "      <th>explicit</th>\n",
       "      <th>id</th>\n",
       "      <th>instrumentalness</th>\n",
       "      <th>key</th>\n",
       "      <th>liveness</th>\n",
       "      <th>loudness</th>\n",
       "      <th>mode</th>\n",
       "      <th>name</th>\n",
       "      <th>popularity</th>\n",
       "      <th>release_date</th>\n",
       "      <th>speechiness</th>\n",
       "      <th>tempo</th>\n",
       "      <th>valence</th>\n",
       "      <th>year</th>\n",
       "    </tr>\n",
       "  </thead>\n",
       "  <tbody>\n",
       "    <tr>\n",
       "      <th>0</th>\n",
       "      <td>0.991000</td>\n",
       "      <td>['Mamie Smith']</td>\n",
       "      <td>0.598</td>\n",
       "      <td>168333</td>\n",
       "      <td>0.224</td>\n",
       "      <td>0</td>\n",
       "      <td>0cS0A1fUEUd1EW3FcF8AEI</td>\n",
       "      <td>0.000522</td>\n",
       "      <td>5</td>\n",
       "      <td>0.3790</td>\n",
       "      <td>-12.628</td>\n",
       "      <td>0</td>\n",
       "      <td>Keep A Song In Your Soul</td>\n",
       "      <td>12</td>\n",
       "      <td>1920</td>\n",
       "      <td>0.0936</td>\n",
       "      <td>149.976</td>\n",
       "      <td>0.6340</td>\n",
       "      <td>1920</td>\n",
       "    </tr>\n",
       "    <tr>\n",
       "      <th>1</th>\n",
       "      <td>0.643000</td>\n",
       "      <td>[\"Screamin' Jay Hawkins\"]</td>\n",
       "      <td>0.852</td>\n",
       "      <td>150200</td>\n",
       "      <td>0.517</td>\n",
       "      <td>0</td>\n",
       "      <td>0hbkKFIJm7Z05H8Zl9w30f</td>\n",
       "      <td>0.026400</td>\n",
       "      <td>5</td>\n",
       "      <td>0.0809</td>\n",
       "      <td>-7.261</td>\n",
       "      <td>0</td>\n",
       "      <td>I Put A Spell On You</td>\n",
       "      <td>7</td>\n",
       "      <td>1920-01-05</td>\n",
       "      <td>0.0534</td>\n",
       "      <td>86.889</td>\n",
       "      <td>0.9500</td>\n",
       "      <td>1920</td>\n",
       "    </tr>\n",
       "    <tr>\n",
       "      <th>2</th>\n",
       "      <td>0.993000</td>\n",
       "      <td>['Mamie Smith']</td>\n",
       "      <td>0.647</td>\n",
       "      <td>163827</td>\n",
       "      <td>0.186</td>\n",
       "      <td>0</td>\n",
       "      <td>11m7laMUgmOKqI3oYzuhne</td>\n",
       "      <td>0.000018</td>\n",
       "      <td>0</td>\n",
       "      <td>0.5190</td>\n",
       "      <td>-12.098</td>\n",
       "      <td>1</td>\n",
       "      <td>Golfing Papa</td>\n",
       "      <td>4</td>\n",
       "      <td>1920</td>\n",
       "      <td>0.1740</td>\n",
       "      <td>97.600</td>\n",
       "      <td>0.6890</td>\n",
       "      <td>1920</td>\n",
       "    </tr>\n",
       "    <tr>\n",
       "      <th>3</th>\n",
       "      <td>0.000173</td>\n",
       "      <td>['Oscar Velazquez']</td>\n",
       "      <td>0.730</td>\n",
       "      <td>422087</td>\n",
       "      <td>0.798</td>\n",
       "      <td>0</td>\n",
       "      <td>19Lc5SfJJ5O1oaxY0fpwfh</td>\n",
       "      <td>0.801000</td>\n",
       "      <td>2</td>\n",
       "      <td>0.1280</td>\n",
       "      <td>-7.311</td>\n",
       "      <td>1</td>\n",
       "      <td>True House Music - Xavier Santos &amp; Carlos Gomi...</td>\n",
       "      <td>17</td>\n",
       "      <td>1920-01-01</td>\n",
       "      <td>0.0425</td>\n",
       "      <td>127.997</td>\n",
       "      <td>0.0422</td>\n",
       "      <td>1920</td>\n",
       "    </tr>\n",
       "    <tr>\n",
       "      <th>4</th>\n",
       "      <td>0.295000</td>\n",
       "      <td>['Mixe']</td>\n",
       "      <td>0.704</td>\n",
       "      <td>165224</td>\n",
       "      <td>0.707</td>\n",
       "      <td>1</td>\n",
       "      <td>2hJjbsLCytGsnAHfdsLejp</td>\n",
       "      <td>0.000246</td>\n",
       "      <td>10</td>\n",
       "      <td>0.4020</td>\n",
       "      <td>-6.036</td>\n",
       "      <td>0</td>\n",
       "      <td>Xuniverxe</td>\n",
       "      <td>2</td>\n",
       "      <td>1920-10-01</td>\n",
       "      <td>0.0768</td>\n",
       "      <td>122.076</td>\n",
       "      <td>0.2990</td>\n",
       "      <td>1920</td>\n",
       "    </tr>\n",
       "  </tbody>\n",
       "</table>\n",
       "</div>"
      ],
      "text/plain": [
       "   acousticness                    artists  danceability  duration_ms  energy  \\\n",
       "0      0.991000            ['Mamie Smith']         0.598       168333   0.224   \n",
       "1      0.643000  [\"Screamin' Jay Hawkins\"]         0.852       150200   0.517   \n",
       "2      0.993000            ['Mamie Smith']         0.647       163827   0.186   \n",
       "3      0.000173        ['Oscar Velazquez']         0.730       422087   0.798   \n",
       "4      0.295000                   ['Mixe']         0.704       165224   0.707   \n",
       "\n",
       "   explicit                      id  instrumentalness  key  liveness  \\\n",
       "0         0  0cS0A1fUEUd1EW3FcF8AEI          0.000522    5    0.3790   \n",
       "1         0  0hbkKFIJm7Z05H8Zl9w30f          0.026400    5    0.0809   \n",
       "2         0  11m7laMUgmOKqI3oYzuhne          0.000018    0    0.5190   \n",
       "3         0  19Lc5SfJJ5O1oaxY0fpwfh          0.801000    2    0.1280   \n",
       "4         1  2hJjbsLCytGsnAHfdsLejp          0.000246   10    0.4020   \n",
       "\n",
       "   loudness  mode                                               name  \\\n",
       "0   -12.628     0                           Keep A Song In Your Soul   \n",
       "1    -7.261     0                               I Put A Spell On You   \n",
       "2   -12.098     1                                       Golfing Papa   \n",
       "3    -7.311     1  True House Music - Xavier Santos & Carlos Gomi...   \n",
       "4    -6.036     0                                          Xuniverxe   \n",
       "\n",
       "   popularity release_date  speechiness    tempo  valence  year  \n",
       "0          12         1920       0.0936  149.976   0.6340  1920  \n",
       "1           7   1920-01-05       0.0534   86.889   0.9500  1920  \n",
       "2           4         1920       0.1740   97.600   0.6890  1920  \n",
       "3          17   1920-01-01       0.0425  127.997   0.0422  1920  \n",
       "4           2   1920-10-01       0.0768  122.076   0.2990  1920  "
      ]
     },
     "execution_count": 1,
     "metadata": {},
     "output_type": "execute_result"
    }
   ],
   "source": [
    "import numpy as np \n",
    "import pandas as pd \n",
    "import seaborn as sns\n",
    "import matplotlib.pyplot as plt\n",
    "from sklearn.model_selection import train_test_split\n",
    "from sklearn.ensemble import RandomForestRegressor\n",
    "from sklearn import metrics\n",
    "\n",
    "\n",
    "# read in data and show a preview\n",
    "\n",
    "path = '/kaggle/input/spotify-dataset-19212020-160k-tracks/data.csv'\n",
    "df = pd.read_csv(path)\n",
    "df.head()\n"
   ]
  },
  {
   "cell_type": "code",
   "execution_count": 2,
   "metadata": {
    "execution": {
     "iopub.execute_input": "2021-02-03T04:28:00.621936Z",
     "iopub.status.busy": "2021-02-03T04:28:00.620579Z",
     "iopub.status.idle": "2021-02-03T04:28:00.722125Z",
     "shell.execute_reply": "2021-02-03T04:28:00.720886Z"
    },
    "papermill": {
     "duration": 0.121869,
     "end_time": "2021-02-03T04:28:00.722327",
     "exception": false,
     "start_time": "2021-02-03T04:28:00.600458",
     "status": "completed"
    },
    "tags": []
   },
   "outputs": [
    {
     "name": "stdout",
     "output_type": "stream",
     "text": [
      "<class 'pandas.core.frame.DataFrame'>\n",
      "RangeIndex: 174389 entries, 0 to 174388\n",
      "Data columns (total 19 columns):\n",
      " #   Column            Non-Null Count   Dtype  \n",
      "---  ------            --------------   -----  \n",
      " 0   acousticness      174389 non-null  float64\n",
      " 1   artists           174389 non-null  object \n",
      " 2   danceability      174389 non-null  float64\n",
      " 3   duration_ms       174389 non-null  int64  \n",
      " 4   energy            174389 non-null  float64\n",
      " 5   explicit          174389 non-null  int64  \n",
      " 6   id                174389 non-null  object \n",
      " 7   instrumentalness  174389 non-null  float64\n",
      " 8   key               174389 non-null  int64  \n",
      " 9   liveness          174389 non-null  float64\n",
      " 10  loudness          174389 non-null  float64\n",
      " 11  mode              174389 non-null  int64  \n",
      " 12  name              174389 non-null  object \n",
      " 13  popularity        174389 non-null  int64  \n",
      " 14  release_date      174389 non-null  object \n",
      " 15  speechiness       174389 non-null  float64\n",
      " 16  tempo             174389 non-null  float64\n",
      " 17  valence           174389 non-null  float64\n",
      " 18  year              174389 non-null  int64  \n",
      "dtypes: float64(9), int64(6), object(4)\n",
      "memory usage: 25.3+ MB\n"
     ]
    }
   ],
   "source": [
    "df.info()\n",
    "# show columns of data"
   ]
  },
  {
   "cell_type": "markdown",
   "metadata": {
    "papermill": {
     "duration": 0.015335,
     "end_time": "2021-02-03T04:28:00.753860",
     "exception": false,
     "start_time": "2021-02-03T04:28:00.738525",
     "status": "completed"
    },
    "tags": []
   },
   "source": [
    "**Cleaning - Features Selection**\n",
    "\n",
    "We can remove the \"id\" and \"release_date\" columns - id is not useful to us for modelling, and the \"year\" column already provides us with dates"
   ]
  },
  {
   "cell_type": "code",
   "execution_count": 3,
   "metadata": {
    "execution": {
     "iopub.execute_input": "2021-02-03T04:28:00.797398Z",
     "iopub.status.busy": "2021-02-03T04:28:00.796558Z",
     "iopub.status.idle": "2021-02-03T04:28:00.811667Z",
     "shell.execute_reply": "2021-02-03T04:28:00.810940Z"
    },
    "papermill": {
     "duration": 0.04275,
     "end_time": "2021-02-03T04:28:00.811783",
     "exception": false,
     "start_time": "2021-02-03T04:28:00.769033",
     "status": "completed"
    },
    "tags": []
   },
   "outputs": [
    {
     "data": {
      "text/plain": [
       "(174389, 17)"
      ]
     },
     "execution_count": 3,
     "metadata": {},
     "output_type": "execute_result"
    }
   ],
   "source": [
    "df = df.drop(labels=['id', 'release_date'], axis=1)\n",
    "df.shape"
   ]
  },
  {
   "cell_type": "code",
   "execution_count": 4,
   "metadata": {
    "execution": {
     "iopub.execute_input": "2021-02-03T04:28:00.850140Z",
     "iopub.status.busy": "2021-02-03T04:28:00.849345Z",
     "iopub.status.idle": "2021-02-03T04:28:01.075565Z",
     "shell.execute_reply": "2021-02-03T04:28:01.076156Z"
    },
    "papermill": {
     "duration": 0.248665,
     "end_time": "2021-02-03T04:28:01.076314",
     "exception": false,
     "start_time": "2021-02-03T04:28:00.827649",
     "status": "completed"
    },
    "tags": []
   },
   "outputs": [
    {
     "data": {
      "text/plain": [
       "3371"
      ]
     },
     "execution_count": 4,
     "metadata": {},
     "output_type": "execute_result"
    }
   ],
   "source": [
    "# check for duplicates and remove\n",
    "df.duplicated().sum()"
   ]
  },
  {
   "cell_type": "code",
   "execution_count": 5,
   "metadata": {
    "execution": {
     "iopub.execute_input": "2021-02-03T04:28:01.116455Z",
     "iopub.status.busy": "2021-02-03T04:28:01.115725Z",
     "iopub.status.idle": "2021-02-03T04:28:01.372575Z",
     "shell.execute_reply": "2021-02-03T04:28:01.373134Z"
    },
    "papermill": {
     "duration": 0.279393,
     "end_time": "2021-02-03T04:28:01.373292",
     "exception": false,
     "start_time": "2021-02-03T04:28:01.093899",
     "status": "completed"
    },
    "tags": []
   },
   "outputs": [
    {
     "data": {
      "text/plain": [
       "(171018, 17)"
      ]
     },
     "execution_count": 5,
     "metadata": {},
     "output_type": "execute_result"
    }
   ],
   "source": [
    "df = df[~df.duplicated()==1]\n",
    "df.shape"
   ]
  },
  {
   "cell_type": "code",
   "execution_count": 6,
   "metadata": {
    "execution": {
     "iopub.execute_input": "2021-02-03T04:28:01.411650Z",
     "iopub.status.busy": "2021-02-03T04:28:01.410488Z",
     "iopub.status.idle": "2021-02-03T04:28:01.460958Z",
     "shell.execute_reply": "2021-02-03T04:28:01.461535Z"
    },
    "papermill": {
     "duration": 0.071252,
     "end_time": "2021-02-03T04:28:01.461776",
     "exception": false,
     "start_time": "2021-02-03T04:28:01.390524",
     "status": "completed"
    },
    "tags": []
   },
   "outputs": [
    {
     "data": {
      "text/plain": [
       "0"
      ]
     },
     "execution_count": 6,
     "metadata": {},
     "output_type": "execute_result"
    }
   ],
   "source": [
    "# check for null values (there are none)\n",
    "df.isnull().sum().sum()"
   ]
  },
  {
   "cell_type": "markdown",
   "metadata": {
    "papermill": {
     "duration": 0.024423,
     "end_time": "2021-02-03T04:28:01.509546",
     "exception": false,
     "start_time": "2021-02-03T04:28:01.485123",
     "status": "completed"
    },
    "tags": []
   },
   "source": [
    "**Exploration!**"
   ]
  },
  {
   "cell_type": "code",
   "execution_count": 7,
   "metadata": {
    "execution": {
     "iopub.execute_input": "2021-02-03T04:28:01.553445Z",
     "iopub.status.busy": "2021-02-03T04:28:01.552121Z",
     "iopub.status.idle": "2021-02-03T04:28:01.562755Z",
     "shell.execute_reply": "2021-02-03T04:28:01.563585Z"
    },
    "papermill": {
     "duration": 0.033229,
     "end_time": "2021-02-03T04:28:01.563816",
     "exception": false,
     "start_time": "2021-02-03T04:28:01.530587",
     "status": "completed"
    },
    "tags": []
   },
   "outputs": [
    {
     "name": "stdout",
     "output_type": "stream",
     "text": [
      "There are 15 numeric columns & 2 string columns\n"
     ]
    }
   ],
   "source": [
    "numeric_columns = df.columns[df.dtypes != 'object']\n",
    "string_columns = df.columns[df.dtypes == 'object']\n",
    "print(f'There are {len(numeric_columns)} numeric columns & {len(string_columns)} string columns')"
   ]
  },
  {
   "cell_type": "code",
   "execution_count": 8,
   "metadata": {
    "execution": {
     "iopub.execute_input": "2021-02-03T04:28:01.612461Z",
     "iopub.status.busy": "2021-02-03T04:28:01.611693Z",
     "iopub.status.idle": "2021-02-03T04:28:02.170231Z",
     "shell.execute_reply": "2021-02-03T04:28:02.170723Z"
    },
    "papermill": {
     "duration": 0.584131,
     "end_time": "2021-02-03T04:28:02.170892",
     "exception": false,
     "start_time": "2021-02-03T04:28:01.586761",
     "status": "completed"
    },
    "tags": []
   },
   "outputs": [
    {
     "data": {
      "image/png": "[encoded data removed]",
      "text/plain": [
       "<Figure size 432x288 with 2 Axes>"
      ]
     },
     "metadata": {
      "needs_background": "light"
     },
     "output_type": "display_data"
    }
   ],
   "source": [
    "# let's make a heatmap to see feature correlation\n",
    "numeric_df = pd.DataFrame(data=df, columns=numeric_columns, index=df.index)\n",
    "corr = numeric_df.corr()\n",
    "cmap = sns.color_palette(\"Blues\")\n",
    "sns.heatmap(corr, cmap=cmap, square=True)\n",
    "plt.title('Correlation between features (numeric only)')\n",
    "plt.show()"
   ]
  },
  {
   "cell_type": "markdown",
   "metadata": {
    "papermill": {
     "duration": 0.018433,
     "end_time": "2021-02-03T04:28:02.208566",
     "exception": false,
     "start_time": "2021-02-03T04:28:02.190133",
     "status": "completed"
    },
    "tags": []
   },
   "source": [
    "from the heatmap, it seems that year, accosticness, energy, and loudness are the most positively or negatively correlated with popularity. let's check that!"
   ]
  },
  {
   "cell_type": "code",
   "execution_count": 9,
   "metadata": {
    "execution": {
     "iopub.execute_input": "2021-02-03T04:28:02.255605Z",
     "iopub.status.busy": "2021-02-03T04:28:02.254860Z",
     "iopub.status.idle": "2021-02-03T04:28:02.261038Z",
     "shell.execute_reply": "2021-02-03T04:28:02.262304Z"
    },
    "papermill": {
     "duration": 0.035518,
     "end_time": "2021-02-03T04:28:02.262615",
     "exception": false,
     "start_time": "2021-02-03T04:28:02.227097",
     "status": "completed"
    },
    "tags": []
   },
   "outputs": [
    {
     "name": "stdout",
     "output_type": "stream",
     "text": [
      "year              -->  0.55 (absolute value)\n",
      "acousticness      -->  0.41 (absolute value)\n",
      "loudness          -->  0.35 (absolute value)\n",
      "energy            -->  0.34 (absolute value)\n",
      "instrumentalness  -->  0.30 (absolute value)\n"
     ]
    }
   ],
   "source": [
    "# find which features are most linearly correlated - we will be looking at the absolute value of correlation\n",
    "series = np.abs(corr['popularity']).sort_values(ascending=False)\n",
    "for i, row in enumerate(series):\n",
    "    if 0.25 <= row < 1:\n",
    "      print(f'{series.index[i]:17} --> {row: .2f} (absolute value)')"
   ]
  },
  {
   "cell_type": "markdown",
   "metadata": {
    "papermill": {
     "duration": 0.018709,
     "end_time": "2021-02-03T04:28:02.300839",
     "exception": false,
     "start_time": "2021-02-03T04:28:02.282130",
     "status": "completed"
    },
    "tags": []
   },
   "source": [
    "we will use these five features to create our model"
   ]
  },
  {
   "cell_type": "markdown",
   "metadata": {
    "papermill": {
     "duration": 0.020413,
     "end_time": "2021-02-03T04:28:02.341999",
     "exception": false,
     "start_time": "2021-02-03T04:28:02.321586",
     "status": "completed"
    },
    "tags": []
   },
   "source": [
    "**Modeling!**"
   ]
  },
  {
   "cell_type": "code",
   "execution_count": 10,
   "metadata": {
    "execution": {
     "iopub.execute_input": "2021-02-03T04:28:02.392199Z",
     "iopub.status.busy": "2021-02-03T04:28:02.390925Z",
     "iopub.status.idle": "2021-02-03T04:28:02.417267Z",
     "shell.execute_reply": "2021-02-03T04:28:02.416476Z"
    },
    "papermill": {
     "duration": 0.056319,
     "end_time": "2021-02-03T04:28:02.417401",
     "exception": false,
     "start_time": "2021-02-03T04:28:02.361082",
     "status": "completed"
    },
    "tags": []
   },
   "outputs": [],
   "source": [
    "features = ['year','energy','instrumentalness','acousticness','loudness']\n",
    "x = df[features].values\n",
    "y = df['popularity'].values\n",
    "x_train, x_test, y_train, y_test = train_test_split(x, y, test_size=0.25, random_state=1)"
   ]
  },
  {
   "cell_type": "code",
   "execution_count": 11,
   "metadata": {
    "execution": {
     "iopub.execute_input": "2021-02-03T04:28:02.463543Z",
     "iopub.status.busy": "2021-02-03T04:28:02.462800Z",
     "iopub.status.idle": "2021-02-03T04:29:16.239763Z",
     "shell.execute_reply": "2021-02-03T04:29:16.240299Z"
    },
    "papermill": {
     "duration": 73.803137,
     "end_time": "2021-02-03T04:29:16.240466",
     "exception": false,
     "start_time": "2021-02-03T04:28:02.437329",
     "status": "completed"
    },
    "tags": []
   },
   "outputs": [
    {
     "data": {
      "text/plain": [
       "RandomForestRegressor()"
      ]
     },
     "execution_count": 11,
     "metadata": {},
     "output_type": "execute_result"
    }
   ],
   "source": [
    "# create and fit the model\n",
    "rfr = RandomForestRegressor()\n",
    "rfr.fit(x_train,y_train)"
   ]
  },
  {
   "cell_type": "markdown",
   "metadata": {
    "papermill": {
     "duration": 0.021359,
     "end_time": "2021-02-03T04:29:16.282557",
     "exception": false,
     "start_time": "2021-02-03T04:29:16.261198",
     "status": "completed"
    },
    "tags": []
   },
   "source": [
    "**Evaluate**"
   ]
  },
  {
   "cell_type": "code",
   "execution_count": 12,
   "metadata": {
    "execution": {
     "iopub.execute_input": "2021-02-03T04:29:16.331666Z",
     "iopub.status.busy": "2021-02-03T04:29:16.330945Z",
     "iopub.status.idle": "2021-02-03T04:29:18.306493Z",
     "shell.execute_reply": "2021-02-03T04:29:18.305899Z"
    },
    "papermill": {
     "duration": 2.002803,
     "end_time": "2021-02-03T04:29:18.306607",
     "exception": false,
     "start_time": "2021-02-03T04:29:16.303804",
     "status": "completed"
    },
    "tags": []
   },
   "outputs": [
    {
     "data": {
      "text/plain": [
       "8.975937373484244"
      ]
     },
     "execution_count": 12,
     "metadata": {},
     "output_type": "execute_result"
    }
   ],
   "source": [
    "# create predictions\n",
    "rfr_pred = rfr.predict(x_test)\n",
    "# calculate mean absolute error of model\n",
    "metrics.mean_absolute_error(y_test,rfr_pred)"
   ]
  },
  {
   "cell_type": "markdown",
   "metadata": {
    "papermill": {
     "duration": 0.019882,
     "end_time": "2021-02-03T04:29:18.346656",
     "exception": false,
     "start_time": "2021-02-03T04:29:18.326774",
     "status": "completed"
    },
    "tags": []
   },
   "source": [
    "**Testing**"
   ]
  },
  {
   "cell_type": "code",
   "execution_count": 13,
   "metadata": {
    "execution": {
     "iopub.execute_input": "2021-02-03T04:29:18.394851Z",
     "iopub.status.busy": "2021-02-03T04:29:18.394171Z",
     "iopub.status.idle": "2021-02-03T04:29:18.397806Z",
     "shell.execute_reply": "2021-02-03T04:29:18.397293Z"
    },
    "papermill": {
     "duration": 0.030986,
     "end_time": "2021-02-03T04:29:18.397920",
     "exception": false,
     "start_time": "2021-02-03T04:29:18.366934",
     "status": "completed"
    },
    "tags": []
   },
   "outputs": [],
   "source": [
    "def songPopularityPrediction(artist, song):\n",
    "    a=df[df['artists']==artist]\n",
    "    song = a[a['name']==song]\n",
    "    x = song[features].values\n",
    "    pred = rfr.predict(x)\n",
    "    y=song['popularity'].values\n",
    "    print (f\"predicted value = {pred}\")\n",
    "    print (f\"actual value = {y}\")\n",
    "\n",
    "    "
   ]
  },
  {
   "cell_type": "code",
   "execution_count": 14,
   "metadata": {
    "execution": {
     "iopub.execute_input": "2021-02-03T04:29:18.442189Z",
     "iopub.status.busy": "2021-02-03T04:29:18.441462Z",
     "iopub.status.idle": "2021-02-03T04:29:18.493032Z",
     "shell.execute_reply": "2021-02-03T04:29:18.492329Z"
    },
    "papermill": {
     "duration": 0.074874,
     "end_time": "2021-02-03T04:29:18.493149",
     "exception": false,
     "start_time": "2021-02-03T04:29:18.418275",
     "status": "completed"
    },
    "tags": []
   },
   "outputs": [
    {
     "name": "stdout",
     "output_type": "stream",
     "text": [
      "predicted value = [55.57]\n",
      "actual value = [73]\n"
     ]
    }
   ],
   "source": [
    "songPopularityPrediction(\"['Phoebe Bridgers']\", 'Motion Sickness')\n"
   ]
  },
  {
   "cell_type": "code",
   "execution_count": 15,
   "metadata": {
    "execution": {
     "iopub.execute_input": "2021-02-03T04:29:18.560327Z",
     "iopub.status.busy": "2021-02-03T04:29:18.559314Z",
     "iopub.status.idle": "2021-02-03T04:29:18.605585Z",
     "shell.execute_reply": "2021-02-03T04:29:18.604855Z"
    },
    "papermill": {
     "duration": 0.079834,
     "end_time": "2021-02-03T04:29:18.605719",
     "exception": false,
     "start_time": "2021-02-03T04:29:18.525885",
     "status": "completed"
    },
    "tags": []
   },
   "outputs": [
    {
     "name": "stdout",
     "output_type": "stream",
     "text": [
      "predicted value = [41.17]\n",
      "actual value = [54]\n"
     ]
    }
   ],
   "source": [
    "songPopularityPrediction(\"['Vampire Weekend']\", 'Hannah Hunt')"
   ]
  }
 ],
 "metadata": {
  "kernelspec": {
   "display_name": "Python 3",
   "language": "python",
   "name": "python3"
  },
  "language_info": {
   "codemirror_mode": {
    "name": "ipython",
    "version": 3
   },
   "file_extension": ".py",
   "mimetype": "text/x-python",
   "name": "python",
   "nbconvert_exporter": "python",
   "pygments_lexer": "ipython3",
   "version": "3.7.6"
  },
  "papermill": {
   "duration": 87.096409,
   "end_time": "2021-02-03T04:29:18.739944",
   "environment_variables": {},
   "exception": null,
   "input_path": "__notebook__.ipynb",
   "output_path": "__notebook__.ipynb",
   "parameters": {},
   "start_time": "2021-02-03T04:27:51.643535",
   "version": "2.1.0"
  }
 },
 "nbformat": 4,
 "nbformat_minor": 4
}
